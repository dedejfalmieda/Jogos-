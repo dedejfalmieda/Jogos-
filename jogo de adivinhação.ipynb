{
  "cells": [
    {
      "cell_type": "markdown",
      "metadata": {
        "id": "view-in-github",
        "colab_type": "text"
      },
      "source": [
        "<a href=\"https://colab.research.google.com/github/dedejfalmieda/Jogos-/blob/main/jogo%20de%20adivinha%C3%A7%C3%A3o.ipynb\" target=\"_parent\"><img src=\"https://colab.research.google.com/assets/colab-badge.svg\" alt=\"Open In Colab\"/></a>"
      ]
    },
    {
      "cell_type": "code",
      "execution_count": 2,
      "metadata": {
        "colab": {
          "base_uri": "https://localhost:8080/"
        },
        "id": "lIYdn1woOS1n",
        "outputId": "3ebaeff8-713d-4dbd-e793-90508fb370f8"
      },
      "outputs": [
        {
          "output_type": "stream",
          "name": "stdout",
          "text": [
            "🟢 BEM-VINDO AO JOGO RETRÔ: ADIVINHE O NÚMERO!\n",
            "\n",
            "O computador escolheu um número entre 1 e 100...\n",
            "Digite seu palpite: 10\n",
            "🔺 Muito baixo! Tente um número maior.\n",
            "\n",
            "Digite seu palpite: 20\n",
            "🔺 Muito baixo! Tente um número maior.\n",
            "\n",
            "Digite seu palpite: 100\n",
            "🔻 Muito alto! Tente um número menor.\n",
            "\n",
            "Digite seu palpite: 90\n",
            "\n",
            "🎉 Parabéns! Você acertou em 4 tentativas.\n",
            "\n",
            "Obrigado por jogar! 👾\n"
          ]
        }
      ],
      "source": [
        "import random\n",
        "import time\n",
        "import os\n",
        "\n",
        "def estilo_retro(texto):\n",
        "    for letra in texto:\n",
        "        print(letra, end='', flush=True)\n",
        "        time.sleep(0.03)\n",
        "    print()\n",
        "\n",
        "def limpar_tela():\n",
        "    os.system('cls' if os.name == 'nt' else 'clear')\n",
        "\n",
        "def jogo():\n",
        "    limpar_tela()\n",
        "    estilo_retro(\"🟢 BEM-VINDO AO JOGO RETRÔ: ADIVINHE O NÚMERO!\\n\")\n",
        "    estilo_retro(\"O computador escolheu um número entre 1 e 100...\")\n",
        "    numero_secreto = random.randint(1, 100)\n",
        "    tentativas = 0\n",
        "\n",
        "    while True:\n",
        "        try:\n",
        "            chute = int(input(\"Digite seu palpite: \"))\n",
        "            tentativas += 1\n",
        "\n",
        "            if chute == numero_secreto:\n",
        "                estilo_retro(f\"\\n🎉 Parabéns! Você acertou em {tentativas} tentativas.\")\n",
        "                break\n",
        "            elif chute < numero_secreto:\n",
        "                estilo_retro(\"🔺 Muito baixo! Tente um número maior.\\n\")\n",
        "            else:\n",
        "                estilo_retro(\"🔻 Muito alto! Tente um número menor.\\n\")\n",
        "        except ValueError:\n",
        "            estilo_retro(\"⛔ Por favor, digite um número válido.\")\n",
        "\n",
        "    estilo_retro(\"\\nObrigado por jogar! 👾\")\n",
        "\n",
        "# Executar o jogo\n",
        "jogo()\n"
      ]
    }
  ],
  "metadata": {
    "colab": {
      "name": "scratchpad",
      "provenance": [],
      "include_colab_link": true
    },
    "kernelspec": {
      "display_name": "Python 3",
      "name": "python3"
    }
  },
  "nbformat": 4,
  "nbformat_minor": 0
}