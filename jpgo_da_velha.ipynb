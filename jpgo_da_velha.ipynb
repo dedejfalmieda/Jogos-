{
  "nbformat": 4,
  "nbformat_minor": 0,
  "metadata": {
    "colab": {
      "private_outputs": true,
      "provenance": [],
      "authorship_tag": "ABX9TyOMTWWACN8RJf0siqLWtHM8",
      "include_colab_link": true
    },
    "kernelspec": {
      "name": "python3",
      "display_name": "Python 3"
    },
    "language_info": {
      "name": "python"
    }
  },
  "cells": [
    {
      "cell_type": "markdown",
      "metadata": {
        "id": "view-in-github",
        "colab_type": "text"
      },
      "source": [
        "<a href=\"https://colab.research.google.com/github/dedejfalmieda/Jogos-/blob/main/jpgo_da_velha.ipynb\" target=\"_parent\"><img src=\"https://colab.research.google.com/assets/colab-badge.svg\" alt=\"Open In Colab\"/></a>"
      ]
    },
    {
      "cell_type": "code",
      "execution_count": null,
      "metadata": {
        "id": "1KuUCLWDpPkU"
      },
      "outputs": [],
      "source": [
        "def imprimir_tabuleiro(tabuleiro):\n",
        "    print(\"\\n\")\n",
        "    for i in range(3):\n",
        "        print(\" \" + \" | \".join(tabuleiro[i]))\n",
        "        if i < 2:\n",
        "            print(\"---|---|---\")\n",
        "    print(\"\\n\")\n",
        "\n",
        "def verificar_vitoria(tabuleiro, jogador):\n",
        "    for i in range(3):\n",
        "        if all([cel == jogador for cel in tabuleiro[i]]):  # linhas\n",
        "            return True\n",
        "        if all([tabuleiro[j][i] == jogador for j in range(3)]):  # colunas\n",
        "            return True\n",
        "    if all([tabuleiro[i][i] == jogador for i in range(3)]):  # diagonal\n",
        "        return True\n",
        "    if all([tabuleiro[i][2 - i] == jogador for i in range(3)]):  # diagonal inversa\n",
        "        return True\n",
        "    return False\n",
        "\n",
        "def tabuleiro_cheio(tabuleiro):\n",
        "    return all([cel != ' ' for linha in tabuleiro for cel in linha])\n",
        "\n",
        "def jogar():\n",
        "    tabuleiro = [[' ' for _ in range(3)] for _ in range(3)]\n",
        "    jogador = 'X'\n",
        "\n",
        "    print(\"🎮 JOGO DA VELHA (PYTHON RETRÔ)\")\n",
        "    print(\"Jogador 1: X  |  Jogador 2: O\")\n",
        "\n",
        "    while True:\n",
        "        imprimir_tabuleiro(tabuleiro)\n",
        "        print(f\"Vez do jogador '{jogador}'\")\n",
        "\n",
        "        try:\n",
        "            linha = int(input(\"Linha (0, 1, 2): \"))\n",
        "            coluna = int(input(\"Coluna (0, 1, 2): \"))\n",
        "        except ValueError:\n",
        "            print(\"⛔ Entrada inválida! Use apenas números.\")\n",
        "            continue\n",
        "\n",
        "        if linha not in [0,1,2] or coluna not in [0,1,2]:\n",
        "            print(\"⛔ Posição fora do tabuleiro. Tente 0, 1 ou 2.\")\n",
        "            continue\n",
        "\n",
        "        if tabuleiro[linha][coluna] != ' ':\n",
        "            print(\"⛔ Essa posição já está ocupada!\")\n",
        "            continue\n",
        "\n",
        "        tabuleiro[linha][coluna] = jogador\n",
        "\n",
        "        if verificar_vitoria(tabuleiro, jogador):\n",
        "            imprimir_tabuleiro(tabuleiro)\n",
        "            print(f\"🎉 Jogador '{jogador}' venceu!\")\n",
        "            break\n",
        "\n",
        "        if tabuleiro_cheio(tabuleiro):\n",
        "            imprimir_tabuleiro(tabuleiro)\n",
        "            print(\"⚠️ Empate!\")\n",
        "            break\n",
        "\n",
        "        jogador = 'O' if jogador == 'X' else 'X'\n",
        "\n",
        "# Inicia o jogo\n",
        "jogar()\n"
      ]
    }
  ]
}